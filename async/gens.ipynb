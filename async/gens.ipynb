{
 "cells": [
  {
   "cell_type": "markdown",
   "metadata": {},
   "source": [
    "\n",
    "# Генераторы и асинхронность.\n"
   ]
  },
  {
   "cell_type": "markdown",
   "metadata": {},
   "source": [
    "\n",
    "Что такое генератор? Не каждый хороший питонист сможет правильно ответить на этот вопрос. Под капотом эта конструкция скрывает себе множество неочевидных вещей, в которых мы попробуем разобраться\n",
    "\n"
   ]
  },
  {
   "cell_type": "code",
   "execution_count": null,
   "metadata": {},
   "outputs": [],
   "source": [
    "\n",
    "# В первую очередь генератор - это функция.\n",
    "# Вместо ключевого слова `return` написан `yield`\n",
    "# Любая функция с `yield` становится генератором\n",
    "\n",
    "def gen(s: str):\n",
    "    for x in s:\n",
    "        yield x\n"
   ]
  },
  {
   "cell_type": "code",
   "execution_count": null,
   "metadata": {},
   "outputs": [],
   "source": [
    "\n",
    "# Попробуем использовать наш генератор\n",
    "gen('hello!')\n"
   ]
  },
  {
   "cell_type": "code",
   "execution_count": null,
   "metadata": {},
   "outputs": [],
   "source": [
    "# Чёт ничего не получилось :( \n",
    "# На самом деле, при вызове, генератор не начинает выполнение функции,\n",
    "# а создаёт объект `generator object`\n",
    "\n",
    "g = gen('hello!')\n",
    "\n",
    "for x in g:\n",
    "    print(x)\n"
   ]
  },
  {
   "cell_type": "code",
   "execution_count": null,
   "metadata": {},
   "outputs": [],
   "source": [
    "# На самом деле эта конструкция представима как\n",
    "\n",
    "g = gen('hello!')\n",
    "\n",
    "print(next(g))\n",
    "print(next(g))\n",
    "print(next(g))\n",
    "print(next(g))\n",
    "print(next(g))\n",
    "print(next(g))\n",
    "\n",
    "# Эксперимент! Вызовем next ещё раз\n",
    "next(g)\n"
   ]
  },
  {
   "cell_type": "code",
   "execution_count": null,
   "metadata": {},
   "outputs": [],
   "source": [
    "# Отлично, теперь мы знаем, как выполнять генератор до конца\n",
    "\n",
    "\n",
    "g = gen('hello!')\n",
    "\n",
    "while True:\n",
    "    try:\n",
    "        print(next(g))\n",
    "    except StopIteration:\n",
    "        break"
   ]
  },
  {
   "cell_type": "markdown",
   "metadata": {},
   "source": [
    "Резумируем несколько важных вещей, про которые вы, возможно, уже догадались\n",
    "\n",
    " - Генератор - это функция\n",
    " - Генератор - это необычная функция\n",
    " - Генератор - это функция, которая умеет останавливаться!\n",
    " "
   ]
  },
  {
   "cell_type": "code",
   "execution_count": null,
   "metadata": {},
   "outputs": [],
   "source": [
    "\n",
    "# В генераторе может быть несколько инструкций yield\n",
    "\n",
    "def multigen(x: int):\n",
    "    x += 1\n",
    "    yield x\n",
    "    \n",
    "    x *= 42\n",
    "    yield x\n",
    "    \n",
    "    x -= 10\n",
    "    yield x\n",
    "\n",
    "\n",
    "g = multigen(1)\n",
    "print(next(g))\n",
    "\n",
    "# Заметьте, что тут мы можем написать какой-то другой код\n",
    "print('Here!')\n",
    "\n",
    "print(next(g))\n",
    "print(next(g))\n"
   ]
  },
  {
   "cell_type": "code",
   "execution_count": null,
   "metadata": {},
   "outputs": [],
   "source": [
    "\n",
    "\n",
    "# Конструкция, которая ломает 80% питонистов.\n",
    "# Оказывается, yield не только отдаёт данные, но и принимает их!\n",
    "\n",
    "def bidirectional_gen():\n",
    "    message = yield\n",
    "    print(message)\n",
    "    message2 = yield message.lower()\n",
    "    print(message2)\n",
    "    yield\n",
    "\n",
    "\n",
    "g = bidirectional_gen()\n",
    "g.send(None)  # равносильно next(g)\n",
    "\n",
    "resp = g.send('HELLO!')\n",
    "print(f\"Got response from gen: {resp}\")\n",
    "g.send('World')\n"
   ]
  },
  {
   "cell_type": "code",
   "execution_count": null,
   "metadata": {},
   "outputs": [],
   "source": [
    "\n",
    "def average():\n",
    "    # Попробуем реализовать такую штуку\n",
    "    pass\n",
    "\n",
    "\n",
    "g = average()\n",
    "g.send(None)\n",
    "print(g.send(10))\n",
    "print(g.send(10))\n",
    "print(g.send(8))\n",
    "print(g.send(8))\n"
   ]
  },
  {
   "cell_type": "code",
   "execution_count": null,
   "metadata": {},
   "outputs": [],
   "source": [
    "\n",
    "def subgen(s: str):\n",
    "    for x in s:\n",
    "        print(x)\n",
    "\n",
    "        \n",
    "def delegator(s: str):\n",
    "    \n",
    "\n"
   ]
  },
  {
   "cell_type": "markdown",
   "metadata": {},
   "source": [
    "\n",
    "Поговорим про парадигмы асинхронного программирования <br>\n",
    "https://ru.wikipedia.org/wiki/Round-robin_(%D0%B0%D0%BB%D0%B3%D0%BE%D1%80%D0%B8%D1%82%D0%BC)\n",
    "\n"
   ]
  },
  {
   "cell_type": "markdown",
   "metadata": {},
   "source": [
    "### Пишем свою асинхронность!\n",
    "\n"
   ]
  },
  {
   "cell_type": "code",
   "execution_count": null,
   "metadata": {},
   "outputs": [],
   "source": [
    "import time\n",
    "import itertools\n",
    "from inspect import getgeneratorstate\n",
    "\n",
    "\n",
    "def first_task():\n",
    "    for i in itertools.count():\n",
    "        time.sleep(1)  # какие-то вычисления. На самом деле, всё работает совсем по другому.\n",
    "        print(f'Iteration #{i}')\n",
    "        yield\n",
    "\n",
    "\n",
    "def second_task():\n",
    "    i = 0\n",
    "    while True:  \n",
    "        time.sleep(1)\n",
    "        i = (i + 1) % 5  # каждые 5 секунд\n",
    "  \n",
    "        if i == 0:\n",
    "            print(time.time())\n",
    "        yield\n",
    "    \n",
    "\n",
    "tasks = [first_task(), second_task()]\n",
    "\n",
    "\n",
    "def run_event_loop(t):\n",
    "    # FIXME!\n",
    "        \n",
    "\n",
    "run_event_loop(tasks)\n"
   ]
  },
  {
   "cell_type": "code",
   "execution_count": null,
   "metadata": {},
   "outputs": [],
   "source": [
    "import asyncio\n",
    "\n",
    "\n",
    "async def first_task():\n",
    "    for i in itertools.count():\n",
    "        await asyncio.sleep(1)  # настоящий асинх\n",
    "        print(f'Iteration #{i}')\n",
    "        yield\n",
    "\n",
    "\n",
    "async def second_task():\n",
    "    i = 0\n",
    "    while True:  \n",
    "        await asyncio.sleep(1)  # настоящий асинх\n",
    "        i = (i + 1) % 5  # каждые 5 секунд\n",
    "  \n",
    "        if i == 0:\n",
    "            print(time.time())\n",
    "    \n",
    "\n",
    "### TBA JIT"
   ]
  },
  {
   "cell_type": "markdown",
   "metadata": {},
   "source": [
    "https://habr.com/ru/post/337420/"
   ]
  },
  {
   "cell_type": "code",
   "execution_count": null,
   "metadata": {},
   "outputs": [],
   "source": []
  }
 ],
 "metadata": {
  "kernelspec": {
   "display_name": "Python 3",
   "language": "python",
   "name": "python3"
  },
  "language_info": {
   "codemirror_mode": {
    "name": "ipython",
    "version": 3
   },
   "file_extension": ".py",
   "mimetype": "text/x-python",
   "name": "python",
   "nbconvert_exporter": "python",
   "pygments_lexer": "ipython3",
   "version": "3.7.0"
  }
 },
 "nbformat": 4,
 "nbformat_minor": 2
}
